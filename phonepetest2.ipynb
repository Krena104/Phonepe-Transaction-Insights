{
 "cells": [
  {
   "cell_type": "code",
   "execution_count": 1,
   "id": "4281cae0",
   "metadata": {},
   "outputs": [],
   "source": [
    "import mysql\n",
    "import pandas as pd\n",
    "import plotly.express as px\n",
    "import requests\n",
    "import json"
   ]
  },
  {
   "cell_type": "code",
   "execution_count": null,
   "id": "f3b60637",
   "metadata": {},
   "outputs": [],
   "source": [
    "#DataFrame Connection\n",
    "import mysql.connector\n",
    "\n",
    "\n",
    "    # Connect without specifying database\n",
    "mydb = mysql.connector.connect(\n",
    "        host=\"localhost\",\n",
    "        user=\"root\",\n",
    "        password=\"root\",\n",
    "        database=\"phonepe_data\",\n",
    "        port=3306  # Using standard MySQL port\n",
    "    )\n",
    "    \n",
    "cursor = mydb.cursor()\n",
    "\n",
    "#aggregated_insurance_df\n",
    "cursor.execute(\"SELECT * FROM aggregated_insurance\")\n",
    "\n",
    "\n",
    "table1= cursor.fetchall()\n",
    "\n",
    "Aggre_insurance= pd.DataFrame(table1, columns=(\"States\", \"Years\", \"Quarter\", \"Transaction_type\",\n",
    "                                               \"Transaction_count\", \"Transaction_amount\"))\n",
    "\n",
    "#aggre_transaction_df\n",
    "cursor.execute(\"SELECT * FROM aggregated_transaction\")\n",
    "table2= cursor.fetchall()\n",
    "\n",
    "Aggre_transaction= pd.DataFrame(table2, columns=(\"States\", \"Years\", \"Quarter\", \"Transaction_type\",\n",
    "                                               \"Transaction_count\", \"Transaction_amount\"))\n",
    "\n",
    "\n",
    "#aggre_user_df\n",
    "cursor.execute(\"SELECT * FROM aggregated_user\")\n",
    "table3= cursor.fetchall()\n",
    "\n",
    "Aggre_user= pd.DataFrame(table3, columns=(\"States\", \"Years\", \"Quarter\", \"Brands\",\n",
    "                                               \"Transaction_count\", \"Percentage\"))\n",
    "\n",
    "#map_insurance\n",
    "cursor.execute(\"SELECT * FROM map_insurance\")\n",
    "table4= cursor.fetchall()\n",
    "map_insurance= pd.DataFrame(table4, columns=(\"States\", \"Years\", \"Quarter\", \"District\",\n",
    "                                               \"Transaction_count\", \"Transaction_amount\"))\n",
    "\n",
    "#map_transction\n",
    "cursor.execute(\"SELECT * FROM map_transaction\")\n",
    "table5= cursor.fetchall()\n",
    "map_transaction= pd.DataFrame(table5, columns=(\"States\", \"Years\", \"Quarter\", \"District\",\n",
    "                                               \"Transaction_count\", \"Transaction_amount\"))\n",
    "\n",
    "#map_user\n",
    "cursor.execute(\"SELECT * FROM map_user\")\n",
    "table6= cursor.fetchall()\n",
    "map_user= pd.DataFrame(table6, columns=(\"States\", \"Years\", \"Quarter\", \"District\",\n",
    "                                               \"RegisteredUser\", \"AppOpens\"))\n",
    "\n",
    "#top_insurance\n",
    "cursor.execute(\"SELECT * FROM top_insurance\")\n",
    "table7= cursor.fetchall()\n",
    "top_insurance= pd.DataFrame(table7, columns=(\"States\", \"Years\", \"Quarter\", \"Pincodes\",\n",
    "                                               \"Transaction_count\", \"Transaction_amount\"))\n",
    "\n",
    "#top_transaction\n",
    "cursor.execute(\"SELECT * FROM top_transaction\")\n",
    "table8= cursor.fetchall()\n",
    "top_transaction= pd.DataFrame(table8, columns=(\"States\", \"Years\", \"Quarter\", \"Pincodes\",\n",
    "                                               \"Transaction_count\", \"Transaction_amount\"))\n",
    "\n",
    "#top_user\n",
    "cursor.execute(\"SELECT * FROM top_user\")\n",
    "table9= cursor.fetchall()\n",
    "top_user= pd.DataFrame(table9, columns=(\"States\", \"Years\", \"Quarter\", \"Pincodes\",\n",
    "                                               \"RegisteredUsers\"))"
   ]
  },
  {
   "cell_type": "code",
   "execution_count": null,
   "id": "29c5274e",
   "metadata": {},
   "outputs": [],
   "source": [
    "type(Aggre_insurance)"
   ]
  },
  {
   "cell_type": "code",
   "execution_count": null,
   "id": "61b63889",
   "metadata": {},
   "outputs": [],
   "source": []
  },
  {
   "cell_type": "code",
   "execution_count": null,
   "id": "79e82434",
   "metadata": {},
   "outputs": [],
   "source": [
    "Aggre_insurance"
   ]
  },
  {
   "cell_type": "code",
   "execution_count": null,
   "id": "7d392786",
   "metadata": {},
   "outputs": [],
   "source": [
    "Aggre_transaction"
   ]
  },
  {
   "cell_type": "code",
   "execution_count": null,
   "id": "3f690192",
   "metadata": {},
   "outputs": [],
   "source": [
    "Aggre_user"
   ]
  },
  {
   "cell_type": "code",
   "execution_count": null,
   "id": "5ca544e7",
   "metadata": {},
   "outputs": [],
   "source": [
    "map_transaction"
   ]
  },
  {
   "cell_type": "code",
   "execution_count": null,
   "id": "6584b428",
   "metadata": {},
   "outputs": [],
   "source": [
    "map_insurance"
   ]
  },
  {
   "cell_type": "code",
   "execution_count": null,
   "id": "52cffc9a",
   "metadata": {},
   "outputs": [],
   "source": [
    "map_user"
   ]
  },
  {
   "cell_type": "code",
   "execution_count": null,
   "id": "f12aa9b6",
   "metadata": {},
   "outputs": [],
   "source": [
    "top_insurance"
   ]
  },
  {
   "cell_type": "code",
   "execution_count": null,
   "id": "40cc472f",
   "metadata": {},
   "outputs": [],
   "source": [
    "top_transaction"
   ]
  },
  {
   "cell_type": "code",
   "execution_count": null,
   "id": "55424583",
   "metadata": {},
   "outputs": [],
   "source": [
    "top_user"
   ]
  },
  {
   "cell_type": "code",
   "execution_count": null,
   "id": "58ae4399",
   "metadata": {},
   "outputs": [],
   "source": [
    "type(top_transaction)\n"
   ]
  },
  {
   "cell_type": "code",
   "execution_count": null,
   "id": "8cc17d6f",
   "metadata": {},
   "outputs": [],
   "source": [
    "type(Aggre_insurance)"
   ]
  },
  {
   "cell_type": "code",
   "execution_count": null,
   "id": "4810f341",
   "metadata": {},
   "outputs": [],
   "source": [
    "#Transaction_Year_Based\n",
    "\n",
    "def Transaction_amount_count_Y(df,year):\n",
    "    tacy = df[df[\"Years\"] == year]\n",
    "    tacy.reset_index(drop = True,inplace = True)\n",
    "\n",
    "    tacyg=tacy.groupby(\"States\")[[\"Transaction_count\",\"Transaction_amount\"]].sum()\n",
    "    tacyg.reset_index(inplace=True)\n",
    "\n",
    "    fig_amount=px.bar(tacyg, x = \"States\",y=\"Transaction_amount\",title=f\"{year} TRANSACTION AMOUNT\",color_discrete_sequence=px.colors.sequential.Aggrnyl)\n",
    "    fig_amount.show()\n",
    "\n",
    "    fig_count=px.bar(tacyg, x = \"States\",y=\"Transaction_count\",title=f\"{year} TRANSACTION COUNT\",color_discrete_sequence=px.colors.sequential.Bluered_r)\n",
    "    fig_count.show()\n",
    "\n",
    "    url=\"https://gist.githubusercontent.com/jbrobst/56c13bbbf9d97d187fea01ca62ea5112/raw/e388c4cae20aa53cb5090210a42ebb9b765c0a36/india_states.geojson\"\n",
    "    response=requests.get(url)\n",
    "    data1=json.loads(response.content)\n",
    "    states_name = []\n",
    "    for feature in data1[\"features\"]:\n",
    "        states_name.append(feature[\"properties\"][\"ST_NM\"])\n",
    "    states_name.sort()\n",
    "    \n",
    "    fig_india_1 = px.choropleth(tacyg, \n",
    "                               geojson=data1, \n",
    "                               locations=\"States\", \n",
    "                               featureidkey=\"properties.ST_NM\",\n",
    "                               color=\"Transaction_amount\", \n",
    "                               color_continuous_scale=\"Rainbow\",\n",
    "                               range_color=(tacyg[\"Transaction_amount\"].min(), tacyg[\"Transaction_amount\"].max()),\n",
    "                               hover_name=\"States\",\n",
    "                               title=f\"{year} TRANSACTION AMOUNT\", \n",
    "                               fitbounds=\"locations\",\n",
    "                               height=600,\n",
    "                               width=600)\n",
    "    fig_india_1.update_geos(visible=False)\n",
    "    fig_india_1.show()\n",
    "\n",
    "\n",
    "    fig_india_2 = px.choropleth(tacyg, \n",
    "                               geojson=data1, \n",
    "                               locations=\"States\", \n",
    "                               featureidkey=\"properties.ST_NM\",\n",
    "                               color=\"Transaction_count\", \n",
    "                               color_continuous_scale=\"Rainbow\",\n",
    "                               range_color=(tacyg[\"Transaction_count\"].min(), tacyg[\"Transaction_count\"].max()),\n",
    "                               hover_name=\"States\",\n",
    "                               title=f\"{year} TRANSACTION COUNT\", \n",
    "                               fitbounds=\"locations\",\n",
    "                               height=600,\n",
    "                               width=600)\n",
    "    fig_india_2.update_geos(visible=False)\n",
    "    fig_india_2.show()\n",
    "\n",
    "    return tacy"
   ]
  },
  {
   "cell_type": "code",
   "execution_count": null,
   "id": "c84fa226",
   "metadata": {},
   "outputs": [],
   "source": [
    "#Transaction_Quarter_Based\n",
    "\n",
    "def Transaction_amount_count_Y_Q(df,quarter):\n",
    "    tacy = df[df[\"Quarter\"] == quarter]\n",
    "    tacy.reset_index(drop = True,inplace = True)\n",
    "\n",
    "    tacyg=tacy.groupby(\"States\")[[\"Transaction_count\",\"Transaction_amount\"]].sum()\n",
    "    tacyg.reset_index(inplace=True)\n",
    "\n",
    "    fig_amount=px.bar(tacyg, x = \"States\",y=\"Transaction_amount\",title=f\"{tacy['Years'].min()} YEAR {quarter} QUARTER TRANSACTION AMOUNT\",color_discrete_sequence=px.colors.sequential.Aggrnyl)\n",
    "    fig_amount.show()\n",
    "\n",
    "    fig_count=px.bar(tacyg, x = \"States\",y=\"Transaction_count\",title=f\"{tacy['Years'].min()} YEAR {quarter} QUARTER  TRANSACTION COUNT\",color_discrete_sequence=px.colors.sequential.Bluered_r)\n",
    "    fig_count.show()\n",
    "\n",
    "    url=\"https://gist.githubusercontent.com/jbrobst/56c13bbbf9d97d187fea01ca62ea5112/raw/e388c4cae20aa53cb5090210a42ebb9b765c0a36/india_states.geojson\"\n",
    "    response=requests.get(url)\n",
    "    data1=json.loads(response.content)\n",
    "    states_name = []\n",
    "    for feature in data1[\"features\"]:\n",
    "        states_name.append(feature[\"properties\"][\"ST_NM\"])\n",
    "    states_name.sort()\n",
    "    \n",
    "    fig_india_1 = px.choropleth(tacyg, \n",
    "                               geojson=data1, \n",
    "                               locations=\"States\", \n",
    "                               featureidkey=\"properties.ST_NM\",\n",
    "                               color=\"Transaction_amount\", \n",
    "                               color_continuous_scale=\"Rainbow\",\n",
    "                               range_color=(tacyg[\"Transaction_amount\"].min(), tacyg[\"Transaction_amount\"].max()),\n",
    "                               hover_name=\"States\",\n",
    "                               title=f\"{tacy['Years'].min()} YEAR {quarter} QUARTER  TRANSACTION AMOUNT\", \n",
    "                               fitbounds=\"locations\",\n",
    "                               height=600,\n",
    "                               width=600)\n",
    "    fig_india_1.update_geos(visible=False)\n",
    "    fig_india_1.show()\n",
    "\n",
    "\n",
    "    fig_india_2 = px.choropleth(tacyg, \n",
    "                               geojson=data1, \n",
    "                               locations=\"States\", \n",
    "                               featureidkey=\"properties.ST_NM\",\n",
    "                               color=\"Transaction_count\", \n",
    "                               color_continuous_scale=\"Rainbow\",\n",
    "                               range_color=(tacyg[\"Transaction_count\"].min(), tacyg[\"Transaction_count\"].max()),\n",
    "                               hover_name=\"States\",\n",
    "                               title=f\"{tacy['Years'].min()} YEAR {quarter} QUARTER  TRANSACTION COUNT\", \n",
    "                               fitbounds=\"locations\",\n",
    "                               height=600,\n",
    "                               width=600)\n",
    "    fig_india_2.update_geos(visible=False)\n",
    "    fig_india_2.show()\n",
    "    \n",
    "    return tacy\n",
    "\n"
   ]
  },
  {
   "cell_type": "code",
   "execution_count": null,
   "id": "de01ee2a",
   "metadata": {},
   "outputs": [],
   "source": [
    "#Transaction_type\n",
    "\n",
    "def Aggre_Tran_Transaction_type(df, state):\n",
    "    \n",
    "\n",
    "    tacy = df[df[\"States\"] == state]\n",
    "    tacy.reset_index(drop = True,inplace = True)\n",
    "    tacyg=tacy.groupby(\"Transaction_type\")[[\"Transaction_count\",\"Transaction_amount\"]].sum()\n",
    "    tacyg.reset_index(inplace=True)\n",
    "\n",
    "    fig_pie_1= px.pie(data_frame = tacyg, names = \"Transaction_type\" ,values = \"Transaction_amount\",\n",
    "                    width = 600 , title=f\"{state.upper()} TRANSACTION_AMOUNT\", hole = 0.5)\n",
    "\n",
    "    fig_pie_1.show()\n",
    "\n",
    "    fig_pie_2= px.pie(data_frame = tacyg, names = \"Transaction_type\" ,values = \"Transaction_count\",\n",
    "                    width = 600 , title=f\"{state.upper()} TRANSACTION_COUNT\", hole = 0.5)\n",
    "\n",
    "    fig_pie_2.show()"
   ]
  },
  {
   "cell_type": "code",
   "execution_count": 125,
   "id": "591d753f",
   "metadata": {},
   "outputs": [],
   "source": [
    "#Aggre_user_analysis_1\n",
    "def Aggre_user_plot_1(df, year):\n",
    "    aguy=df[df[\"Years\"]== year]\n",
    "    aguy.reset_index(drop = True, inplace= True)\n",
    "    aguyg= pd.DataFrame(aguy.groupby(\"Brands\")[\"Transaction_count\"].sum())\n",
    "    aguyg.reset_index(inplace=True)\n",
    "\n",
    "    fig_bar_1 = px.bar(aguyg, x=\"Brands\", y = \"Transaction_count\", title = \"BRANDS AND TRANSACTION COUNT\",\n",
    "                    width = 800, color_discrete_sequence=px.colors.sequential.haline)\n",
    "    fig_bar_1.show()\n",
    "\n",
    "    \n"
   ]
  },
  {
   "cell_type": "code",
   "execution_count": null,
   "id": "d7ca9806",
   "metadata": {},
   "outputs": [],
   "source": [
    "#Aggre_user_Analysis_2\n",
    "def Aggre_user_plot_2(df, quarter):\n",
    "    aguyq= df[df[\"Quarter\"]== quarter]\n",
    "    aguyq.reset_index(drop= True, inplace= True)\n",
    "\n",
    "    aguyqg= pd.DataFrame(aguyq.groupby(\"Brands\")[\"Transaction_count\"].sum())\n",
    "    aguyqg.reset_index(inplace= True)\n",
    "\n",
    "    fig_bar_1= px.bar(aguyqg, x= \"Brands\", y= \"Transaction_count\", title=  f\"{quarter} QUARTER, BRANDS AND TRANSACTION COUNT\",\n",
    "                    width= 1000, color_discrete_sequence= px.colors.sequential.Magenta_r, hover_name=\"Brands\")\n",
    "    fig_bar_1.show()\n",
    "\n",
    "    return aguyq\n",
    "\n",
    "    "
   ]
  },
  {
   "cell_type": "code",
   "execution_count": null,
   "id": "53d2872e",
   "metadata": {},
   "outputs": [],
   "source": [
    "#Aggre_user_Analysis_3\n",
    "def Aggre_user_plot_3(df, state): \n",
    "    auyqs= df[df[\"States\"] == state]\n",
    "    auyqs.reset_index(drop= True, inplace= True)\n",
    "\n",
    "\n",
    "    fig_line_1= px.line(auyqs, x= \"Brands\", y= \"Transaction_count\", hover_data= \"Percentage\",\n",
    "                            title= f\"{state.upper} BRANDS, TRANSACTION COUNT, PERCENTAGE\",width= 1000, markers= True)\n",
    "    fig_line_1.show()"
   ]
  },
  {
   "cell_type": "code",
   "execution_count": null,
   "id": "b295c3e0",
   "metadata": {},
   "outputs": [],
   "source": [
    "#map_insurance_district\n",
    "\n",
    "def map_insur_District(df, state):\n",
    "    \n",
    "\n",
    "    tacy = df[df[\"States\"] == state]\n",
    "    tacy.reset_index(drop = True,inplace = True)\n",
    "    tacyg=tacy.groupby(\"District\")[[\"Transaction_count\",\"Transaction_amount\"]].sum()\n",
    "    tacyg.reset_index(inplace=True)\n",
    "\n",
    "    fig_bar_1= px.bar(tacyg, x= \"Transaction_amount\", y= \"District\", orientation= \"h\", height= 600,\n",
    "                        title= \"DISTRICT AND TRANSACTION AMOUNT\", color_discrete_sequence= px.colors.sequential.Mint_r)\n",
    "    fig_bar_1.show()\n",
    "\n",
    "    fig_bar_2= px.bar(tacyg, x= \"Transaction_count\", y= \"District\", orientation= \"h\", height= 600,\n",
    "                        title= \"DISTRICT AND TRANSACTION COUNT\", color_discrete_sequence= px.colors.sequential.Bluered_r)\n",
    "    fig_bar_2.show()"
   ]
  },
  {
   "cell_type": "code",
   "execution_count": null,
   "id": "ea70c03e",
   "metadata": {},
   "outputs": [],
   "source": [
    "#map_user_plot_1 analysis\n",
    "\n",
    "def map_user_plot_1(df,year):\n",
    "    muy=map_user[map_user[\"Years\"]== 2020]\n",
    "    muy.reset_index(drop = True, inplace= True)\n",
    "\n",
    "    muyg=muy.groupby(\"States\")[[\"RegisteredUser\",\"AppOpens\"]].sum()\n",
    "    muyg.reset_index(inplace=True)\n",
    "    fig_line_1= px.line(muyg, x= \"States\", y=[\"RegisteredUser\",  \"AppOpens\"],\n",
    "                                title=f\"{year} REGISTEREDUSER APPOPENS\",width= 1000,height=800, markers= True)\n",
    "    fig_line_1.show()\n",
    "    \n",
    "    return muy"
   ]
  },
  {
   "cell_type": "code",
   "execution_count": null,
   "id": "4fc63aed",
   "metadata": {},
   "outputs": [],
   "source": [
    "#map_user_plot_2 analysis\n",
    "\n",
    "def map_user_plot_2(df,quarter):\n",
    "    muyq=map_user[map_user[\"Quarter\"]== quarter]\n",
    "    muyq.reset_index(drop = True, inplace= True)\n",
    "\n",
    "    muyqg=muyq.groupby(\"States\")[[\"RegisteredUser\",\"AppOpens\"]].sum()\n",
    "    muyqg.reset_index(inplace=True)\n",
    "    fig_line_1= px.line(muyqg, x= \"States\", y=[\"RegisteredUser\",  \"AppOpens\"],\n",
    "                                title=f\"{df['Years'].min()} {quarter} QUARTER REGISTEREDUSER APPOPENS\",width= 1000,height=800, markers= True,\n",
    "                                color_discrete_sequence=px.colors.sequential.Rainbow_r)\n",
    "    fig_line_1.show()\n",
    "    \n",
    "    return muyq"
   ]
  },
  {
   "cell_type": "code",
   "execution_count": null,
   "id": "fe4f7c7a",
   "metadata": {},
   "outputs": [],
   "source": [
    "#map_user_plot_3_analysis\n",
    "def map_user_plot_3(df,states):\n",
    "\n",
    "    muyqs=df[df[\"States\"]== states]\n",
    "    muyqs.reset_index(drop= True,inplace=True)\n",
    "    fig_map_user_bar_1= px.bar(muyqs, x= \"RegisteredUser\", y= \"District\", orientation= \"h\",\n",
    "                                    title=\"{states} REGISTERED USER\", height= 800, color_discrete_sequence= px.colors.sequential.Rainbow_r)\n",
    "    fig_map_user_bar_1.show()\n",
    "\n",
    "    fig_map_user_bar_2= px.bar(muyqs, x= \"AppOpens\", y= \"District\", orientation= \"h\",\n",
    "                                    title= \"APPOPENS\", height= 800, color_discrete_sequence= px.colors.sequential.Rainbow)\n",
    "    fig_map_user_bar_2.show()\n",
    "\n",
    "\n"
   ]
  },
  {
   "cell_type": "code",
   "execution_count": null,
   "id": "38b4f0c6",
   "metadata": {},
   "outputs": [],
   "source": [
    "#top_insurance plot_1\n",
    "def top_insurance_plot_1(df,state):\n",
    "    tiy=df[df[\"States\"]== state]\n",
    "    tiy.reset_index(drop = True, inplace= True)\n",
    "\n",
    "\n",
    "    \n",
    "    fig_top_insur_bar_1= px.bar(tiy, x= \"Quarter\", y= \"Transaction_amount\", hover_data= \"Pincodes\",\n",
    "                                    title= \"TRANSACTION AMOUNT\", height= 650,width= 600, color_discrete_sequence= px.colors.sequential.GnBu_r)\n",
    "    fig_top_insur_bar_1.show()\n",
    "\n",
    "    fig_top_insur_bar_2= px.bar(tiy, x= \"Quarter\", y= \"Transaction_count\", hover_data= \"Pincodes\",\n",
    "                                title= \"TRANSACTION COUNT\", height= 650,width= 600, color_discrete_sequence= px.colors.sequential.Agsunset_r)\n",
    "    fig_top_insur_bar_2.show()\n",
    "\n",
    "    \n"
   ]
  },
  {
   "cell_type": "code",
   "execution_count": 141,
   "id": "63ed6fcd",
   "metadata": {},
   "outputs": [],
   "source": [
    "def top_user_plot_1(df,year):\n",
    "    tuy=df[df[\"Years\"]== year]\n",
    "    tuy.reset_index(drop = True, inplace= True)\n",
    "\n",
    "\n",
    "    tuyg= pd.DataFrame(tuy.groupby([\"States\", \"Quarter\"])[\"RegisteredUsers\"].sum())\n",
    "    tuyg.reset_index(inplace=True)\n",
    "    fig_top_plot_1= px.bar(tuyg, x= \"States\", y= \"RegisteredUsers\", color= \"Quarter\", width= 1000, height= 800,\n",
    "                            color_discrete_sequence= px.colors.sequential.Burgyl, hover_name= \"States\",title= f\"{year} REGISTERED USERS\")\n",
    "\n",
    "    fig_top_plot_1.show()\n",
    "    return tuy"
   ]
  },
  {
   "cell_type": "code",
   "execution_count": null,
   "id": "e63de5db",
   "metadata": {},
   "outputs": [],
   "source": [
    "#top_user_plot_2\n",
    "def top_user_plot_2(df,state):\n",
    "    tuys=df[df[\"States\"]== state]\n",
    "    tuys.reset_index(drop = True, inplace= True)\n",
    "    fig_top_plot_2= px.bar(tuys, x= \"Quarter\", y= \"RegisteredUsers\", title= \"REGISTEREDUSERS, PINCODES, QUARTER\",\n",
    "                            width= 1000, height= 800, color= \"RegisteredUsers\", hover_data= \"Pincodes\",\n",
    "                            color_continuous_scale= px.colors.sequential.Magenta)\n",
    "    fig_top_plot_2.show()\n",
    "\n"
   ]
  },
  {
   "cell_type": "markdown",
   "id": "d97e29af",
   "metadata": {},
   "source": [
    "## Aggregated_insurance\n"
   ]
  },
  {
   "cell_type": "code",
   "execution_count": null,
   "id": "fe152e99",
   "metadata": {},
   "outputs": [],
   "source": [
    "tac_Y=Transaction_amount_count_Y(Aggre_insurance,2022)\n",
    "tac_Y"
   ]
  },
  {
   "cell_type": "code",
   "execution_count": null,
   "id": "8c464d9b",
   "metadata": {},
   "outputs": [],
   "source": [
    "Transaction_amount_count_Y_Q(tac_Y, 4)"
   ]
  },
  {
   "cell_type": "markdown",
   "id": "129fc2bd",
   "metadata": {},
   "source": [
    "## Aggregated_transaction\n"
   ]
  },
  {
   "cell_type": "code",
   "execution_count": null,
   "id": "bbafa43a",
   "metadata": {},
   "outputs": [],
   "source": [
    "Aggre_tran_tac_Y=Transaction_amount_count_Y(Aggre_transaction,2023)\n"
   ]
  },
  {
   "cell_type": "code",
   "execution_count": null,
   "id": "75837ba3",
   "metadata": {},
   "outputs": [],
   "source": [
    "Aggre_tran_tac_Y"
   ]
  },
  {
   "cell_type": "code",
   "execution_count": null,
   "id": "a5aef7a5",
   "metadata": {},
   "outputs": [],
   "source": [
    "Aggre_Tran_Transaction_type(Aggre_tran_tac_Y, \"Andaman & Nicobar \")"
   ]
  },
  {
   "cell_type": "code",
   "execution_count": null,
   "id": "181fe9d3",
   "metadata": {},
   "outputs": [],
   "source": [
    "Aggre_tran_tac_Y_Q = Transaction_amount_count_Y_Q(Aggre_tran_tac_Y, 4)"
   ]
  },
  {
   "cell_type": "code",
   "execution_count": null,
   "id": "4fdfb6ec",
   "metadata": {},
   "outputs": [],
   "source": [
    "Aggre_tran_tac_Y_Q[\"Transaction_type\"].unique()\n"
   ]
  },
  {
   "cell_type": "markdown",
   "id": "c0c01cf3",
   "metadata": {},
   "source": [
    "## Aggregated_user"
   ]
  },
  {
   "cell_type": "code",
   "execution_count": null,
   "id": "28f8dc68",
   "metadata": {},
   "outputs": [],
   "source": [
    "Aggre_user"
   ]
  },
  {
   "cell_type": "code",
   "execution_count": null,
   "id": "97f942f1",
   "metadata": {},
   "outputs": [],
   "source": [
    "Aggre_user_Y = Aggre_user_plot_1(Aggre_user, 2020)"
   ]
  },
  {
   "cell_type": "code",
   "execution_count": null,
   "id": "322463b7",
   "metadata": {},
   "outputs": [],
   "source": [
    "Aggre_user_Y = Aggre_user[Aggre_user['Years'] == 2020].reset_index(drop=True)"
   ]
  },
  {
   "cell_type": "code",
   "execution_count": null,
   "id": "e3d2a7a7",
   "metadata": {},
   "outputs": [],
   "source": [
    "Aggre_user_Y"
   ]
  },
  {
   "cell_type": "code",
   "execution_count": null,
   "id": "0e164111",
   "metadata": {},
   "outputs": [],
   "source": [
    "Aggre_user_Y= Aggre_user_plot_1(Aggre_user, 2020)"
   ]
  },
  {
   "cell_type": "code",
   "execution_count": null,
   "id": "df755625",
   "metadata": {},
   "outputs": [],
   "source": [
    "Aggre_user_Y_Q = Aggre_user_Y[Aggre_user_Y['States']== \"West Bengal\"].reset_index(drop=True)"
   ]
  },
  {
   "cell_type": "code",
   "execution_count": null,
   "id": "0dfd525a",
   "metadata": {},
   "outputs": [],
   "source": [
    "aguyq= Aggre_user_Y[Aggre_user_Y [\"Quarter\"]== 2]\n",
    "aguyq.reset_index(drop= True)\n"
   ]
  },
  {
   "cell_type": "code",
   "execution_count": null,
   "id": "c50c9cec",
   "metadata": {},
   "outputs": [],
   "source": [
    "Aggre_user_plot_3(Aggre_user_Y_Q , \"Andaman & Nicobar\")"
   ]
  },
  {
   "cell_type": "markdown",
   "id": "14784672",
   "metadata": {},
   "source": [
    "### Map_Insurance"
   ]
  },
  {
   "cell_type": "code",
   "execution_count": null,
   "id": "3bfda13d",
   "metadata": {},
   "outputs": [],
   "source": [
    "Map_insur_tac_Y=Transaction_amount_count_Y(map_insurance,2023)\n"
   ]
  },
  {
   "cell_type": "code",
   "execution_count": null,
   "id": "52c76825",
   "metadata": {},
   "outputs": [],
   "source": [
    "Map_insur_tac_Y"
   ]
  },
  {
   "cell_type": "code",
   "execution_count": null,
   "id": "2a59f234",
   "metadata": {},
   "outputs": [],
   "source": [
    "map_insur_District(Map_insur_tac_Y, \"Tamil Nadu\")"
   ]
  },
  {
   "cell_type": "code",
   "execution_count": null,
   "id": "a10e2380",
   "metadata": {},
   "outputs": [],
   "source": [
    "Map_insur_tac_Y"
   ]
  },
  {
   "cell_type": "code",
   "execution_count": null,
   "id": "7cf5bc0c",
   "metadata": {},
   "outputs": [],
   "source": [
    "Map_insur_tac_Y_Q=Transaction_amount_count_Y_Q(Map_insur_tac_Y,1)\n"
   ]
  },
  {
   "cell_type": "code",
   "execution_count": null,
   "id": "aff3800b",
   "metadata": {},
   "outputs": [],
   "source": [
    "Map_insur_tac_Y_Q"
   ]
  },
  {
   "cell_type": "code",
   "execution_count": null,
   "id": "afa474e9",
   "metadata": {},
   "outputs": [],
   "source": [
    "map_insur_District(Map_insur_tac_Y_Q, \"Tamil Nadu\")"
   ]
  },
  {
   "cell_type": "code",
   "execution_count": null,
   "id": "a257dc08",
   "metadata": {},
   "outputs": [],
   "source": [
    "map_insurance"
   ]
  },
  {
   "cell_type": "markdown",
   "id": "f2922a07",
   "metadata": {},
   "source": [
    "### Map_Transaction\n"
   ]
  },
  {
   "cell_type": "code",
   "execution_count": null,
   "id": "d75fb6e4",
   "metadata": {},
   "outputs": [],
   "source": [
    "map_transaction"
   ]
  },
  {
   "cell_type": "code",
   "execution_count": null,
   "id": "8f5dc02e",
   "metadata": {},
   "outputs": [],
   "source": [
    "Map_tran_tac_Y=Transaction_amount_count_Y(map_transaction,2023)\n"
   ]
  },
  {
   "cell_type": "code",
   "execution_count": null,
   "id": "16adb554",
   "metadata": {},
   "outputs": [],
   "source": [
    "map_insur_District(Map_tran_tac_Y, \"Tamil Nadu\")"
   ]
  },
  {
   "cell_type": "code",
   "execution_count": null,
   "id": "dbf1869c",
   "metadata": {},
   "outputs": [],
   "source": [
    "Map_tran_tac_Y"
   ]
  },
  {
   "cell_type": "code",
   "execution_count": null,
   "id": "853df2a5",
   "metadata": {},
   "outputs": [],
   "source": [
    "Map_tran_tac_Y_Q=Transaction_amount_count_Y_Q(Map_tran_tac_Y,1)"
   ]
  },
  {
   "cell_type": "code",
   "execution_count": null,
   "id": "b1e29750",
   "metadata": {},
   "outputs": [],
   "source": [
    "Map_tran_tac_Y_Q"
   ]
  },
  {
   "cell_type": "code",
   "execution_count": null,
   "id": "53cdff8e",
   "metadata": {},
   "outputs": [],
   "source": [
    "map_insur_District(Map_tran_tac_Y_Q , \"Tamil Nadu\")"
   ]
  },
  {
   "cell_type": "code",
   "execution_count": null,
   "id": "4e937e8a",
   "metadata": {},
   "outputs": [],
   "source": [
    "map_transaction"
   ]
  },
  {
   "cell_type": "markdown",
   "id": "26bab039",
   "metadata": {},
   "source": [
    "### Map_User"
   ]
  },
  {
   "cell_type": "code",
   "execution_count": null,
   "id": "a0bc8156",
   "metadata": {},
   "outputs": [],
   "source": [
    "map_user"
   ]
  },
  {
   "cell_type": "code",
   "execution_count": null,
   "id": "ede3d9f7",
   "metadata": {},
   "outputs": [],
   "source": [
    "map_user_Y = map_user_plot_1(map_user,2023)"
   ]
  },
  {
   "cell_type": "code",
   "execution_count": null,
   "id": "c76c3a2f",
   "metadata": {},
   "outputs": [],
   "source": [
    "map_user_Y"
   ]
  },
  {
   "cell_type": "code",
   "execution_count": null,
   "id": "b4784d28",
   "metadata": {},
   "outputs": [],
   "source": [
    "map_user_Y.value_counts()\n"
   ]
  },
  {
   "cell_type": "code",
   "execution_count": null,
   "id": "ec894534",
   "metadata": {},
   "outputs": [],
   "source": [
    "map_user_Y[\"Years\"].unique()"
   ]
  },
  {
   "cell_type": "code",
   "execution_count": null,
   "id": "4c185659",
   "metadata": {},
   "outputs": [],
   "source": [
    "map_user_Y_Q = map_user_plot_2(map_user_Y, 2)"
   ]
  },
  {
   "cell_type": "code",
   "execution_count": null,
   "id": "a0d5f1d1",
   "metadata": {},
   "outputs": [],
   "source": [
    "map_user_Y_Q"
   ]
  },
  {
   "cell_type": "code",
   "execution_count": null,
   "id": "cb42ae52",
   "metadata": {},
   "outputs": [],
   "source": [
    "map_user_Y_Q[\"Years\"].unique()"
   ]
  },
  {
   "cell_type": "code",
   "execution_count": null,
   "id": "8bd2deb6",
   "metadata": {},
   "outputs": [],
   "source": []
  },
  {
   "cell_type": "markdown",
   "id": "d1823d54",
   "metadata": {},
   "source": [
    "## Top_insurance"
   ]
  },
  {
   "cell_type": "code",
   "execution_count": null,
   "id": "194fe54f",
   "metadata": {},
   "outputs": [],
   "source": [
    "top_insurance"
   ]
  },
  {
   "cell_type": "code",
   "execution_count": null,
   "id": "e92ea8a1",
   "metadata": {},
   "outputs": [],
   "source": [
    "top_insur_tac_Y=Transaction_amount_count_Y(top_insurance,2023)\n"
   ]
  },
  {
   "cell_type": "code",
   "execution_count": null,
   "id": "d2b3fb91",
   "metadata": {},
   "outputs": [],
   "source": [
    "top_insur_tac_Y"
   ]
  },
  {
   "cell_type": "code",
   "execution_count": null,
   "id": "ce37d5f6",
   "metadata": {},
   "outputs": [],
   "source": [
    "top_insurance_plot_1(top_insur_tac_Y, \"West Bengal\")"
   ]
  },
  {
   "cell_type": "code",
   "execution_count": null,
   "id": "8708b6cb",
   "metadata": {},
   "outputs": [],
   "source": [
    "top_insur_tac_Y_Q=Transaction_amount_count_Y_Q(top_insur_tac_Y,1)"
   ]
  },
  {
   "cell_type": "code",
   "execution_count": null,
   "id": "adc3b953",
   "metadata": {},
   "outputs": [],
   "source": [
    "top_insur_tac_Y_Q"
   ]
  },
  {
   "cell_type": "code",
   "execution_count": null,
   "id": "fd4ca416",
   "metadata": {},
   "outputs": [],
   "source": [
    "top_insurance"
   ]
  },
  {
   "cell_type": "code",
   "execution_count": null,
   "id": "15733251",
   "metadata": {},
   "outputs": [],
   "source": []
  },
  {
   "cell_type": "markdown",
   "id": "fdb4bc11",
   "metadata": {},
   "source": [
    "## Top_Transaction"
   ]
  },
  {
   "cell_type": "code",
   "execution_count": null,
   "id": "37310dfd",
   "metadata": {},
   "outputs": [],
   "source": [
    "top_transaction"
   ]
  },
  {
   "cell_type": "code",
   "execution_count": null,
   "id": "0d84cabe",
   "metadata": {},
   "outputs": [],
   "source": [
    "top_tran_tac_Y=Transaction_amount_count_Y(top_transaction,2023)\n"
   ]
  },
  {
   "cell_type": "code",
   "execution_count": null,
   "id": "b2ba59b9",
   "metadata": {},
   "outputs": [],
   "source": [
    "top_tran_tac_Y"
   ]
  },
  {
   "cell_type": "code",
   "execution_count": null,
   "id": "38350a06",
   "metadata": {},
   "outputs": [],
   "source": [
    "top_insurance_plot_1(top_tran_tac_Y, \"West Bengal\")"
   ]
  },
  {
   "cell_type": "code",
   "execution_count": null,
   "id": "46e7b362",
   "metadata": {},
   "outputs": [],
   "source": [
    "top_tran_tac_Y_Q=Transaction_amount_count_Y_Q(top_tran_tac_Y,1)"
   ]
  },
  {
   "cell_type": "code",
   "execution_count": null,
   "id": "5704cb73",
   "metadata": {},
   "outputs": [],
   "source": [
    "top_tran_tac_Y_Q"
   ]
  },
  {
   "cell_type": "markdown",
   "id": "cf3027f2",
   "metadata": {},
   "source": [
    "### Top_User"
   ]
  },
  {
   "cell_type": "code",
   "execution_count": null,
   "id": "cccfd981",
   "metadata": {},
   "outputs": [],
   "source": [
    "Top_user_Y=top_user_plot_1(top_user,2023)"
   ]
  },
  {
   "cell_type": "code",
   "execution_count": null,
   "id": "6fd755df",
   "metadata": {},
   "outputs": [],
   "source": [
    "top_user_plot_2(Top_user_Y, \"Tamil Nadu\")"
   ]
  },
  {
   "cell_type": "code",
   "execution_count": 140,
   "id": "6ce68c5b",
   "metadata": {},
   "outputs": [
    {
     "data": {
      "text/html": [
       "<div>\n",
       "<style scoped>\n",
       "    .dataframe tbody tr th:only-of-type {\n",
       "        vertical-align: middle;\n",
       "    }\n",
       "\n",
       "    .dataframe tbody tr th {\n",
       "        vertical-align: top;\n",
       "    }\n",
       "\n",
       "    .dataframe thead th {\n",
       "        text-align: right;\n",
       "    }\n",
       "</style>\n",
       "<table border=\"1\" class=\"dataframe\">\n",
       "  <thead>\n",
       "    <tr style=\"text-align: right;\">\n",
       "      <th></th>\n",
       "      <th>States</th>\n",
       "      <th>Years</th>\n",
       "      <th>Quarter</th>\n",
       "      <th>Pincodes</th>\n",
       "      <th>RegisteredUsers</th>\n",
       "    </tr>\n",
       "  </thead>\n",
       "  <tbody>\n",
       "    <tr>\n",
       "      <th>0</th>\n",
       "      <td>Andaman &amp; Nicobar</td>\n",
       "      <td>2023</td>\n",
       "      <td>1</td>\n",
       "      <td>744103</td>\n",
       "      <td>1717074</td>\n",
       "    </tr>\n",
       "    <tr>\n",
       "      <th>1</th>\n",
       "      <td>Andaman &amp; Nicobar</td>\n",
       "      <td>2023</td>\n",
       "      <td>1</td>\n",
       "      <td>744105</td>\n",
       "      <td>1717074</td>\n",
       "    </tr>\n",
       "    <tr>\n",
       "      <th>2</th>\n",
       "      <td>Andaman &amp; Nicobar</td>\n",
       "      <td>2023</td>\n",
       "      <td>1</td>\n",
       "      <td>744101</td>\n",
       "      <td>1717074</td>\n",
       "    </tr>\n",
       "    <tr>\n",
       "      <th>3</th>\n",
       "      <td>Andaman &amp; Nicobar</td>\n",
       "      <td>2023</td>\n",
       "      <td>1</td>\n",
       "      <td>744102</td>\n",
       "      <td>1717074</td>\n",
       "    </tr>\n",
       "    <tr>\n",
       "      <th>4</th>\n",
       "      <td>Andaman &amp; Nicobar</td>\n",
       "      <td>2023</td>\n",
       "      <td>1</td>\n",
       "      <td>744202</td>\n",
       "      <td>1717074</td>\n",
       "    </tr>\n",
       "    <tr>\n",
       "      <th>...</th>\n",
       "      <td>...</td>\n",
       "      <td>...</td>\n",
       "      <td>...</td>\n",
       "      <td>...</td>\n",
       "      <td>...</td>\n",
       "    </tr>\n",
       "    <tr>\n",
       "      <th>7135</th>\n",
       "      <td>West Bengal</td>\n",
       "      <td>2023</td>\n",
       "      <td>4</td>\n",
       "      <td>700015</td>\n",
       "      <td>1717074</td>\n",
       "    </tr>\n",
       "    <tr>\n",
       "      <th>7136</th>\n",
       "      <td>West Bengal</td>\n",
       "      <td>2023</td>\n",
       "      <td>4</td>\n",
       "      <td>742304</td>\n",
       "      <td>1717074</td>\n",
       "    </tr>\n",
       "    <tr>\n",
       "      <th>7137</th>\n",
       "      <td>West Bengal</td>\n",
       "      <td>2023</td>\n",
       "      <td>4</td>\n",
       "      <td>721101</td>\n",
       "      <td>1717074</td>\n",
       "    </tr>\n",
       "    <tr>\n",
       "      <th>7138</th>\n",
       "      <td>West Bengal</td>\n",
       "      <td>2023</td>\n",
       "      <td>4</td>\n",
       "      <td>700150</td>\n",
       "      <td>1717074</td>\n",
       "    </tr>\n",
       "    <tr>\n",
       "      <th>7139</th>\n",
       "      <td>West Bengal</td>\n",
       "      <td>2023</td>\n",
       "      <td>4</td>\n",
       "      <td>700091</td>\n",
       "      <td>1717074</td>\n",
       "    </tr>\n",
       "  </tbody>\n",
       "</table>\n",
       "<p>7140 rows × 5 columns</p>\n",
       "</div>"
      ],
      "text/plain": [
       "                 States  Years  Quarter  Pincodes  RegisteredUsers\n",
       "0     Andaman & Nicobar   2023        1    744103          1717074\n",
       "1     Andaman & Nicobar   2023        1    744105          1717074\n",
       "2     Andaman & Nicobar   2023        1    744101          1717074\n",
       "3     Andaman & Nicobar   2023        1    744102          1717074\n",
       "4     Andaman & Nicobar   2023        1    744202          1717074\n",
       "...                 ...    ...      ...       ...              ...\n",
       "7135        West Bengal   2023        4    700015          1717074\n",
       "7136        West Bengal   2023        4    742304          1717074\n",
       "7137        West Bengal   2023        4    721101          1717074\n",
       "7138        West Bengal   2023        4    700150          1717074\n",
       "7139        West Bengal   2023        4    700091          1717074\n",
       "\n",
       "[7140 rows x 5 columns]"
      ]
     },
     "execution_count": 140,
     "metadata": {},
     "output_type": "execute_result"
    }
   ],
   "source": [
    "Top_user_Y"
   ]
  },
  {
   "cell_type": "code",
   "execution_count": 130,
   "id": "ce808c1b",
   "metadata": {},
   "outputs": [
    {
     "data": {
      "text/html": [
       "<div>\n",
       "<style scoped>\n",
       "    .dataframe tbody tr th:only-of-type {\n",
       "        vertical-align: middle;\n",
       "    }\n",
       "\n",
       "    .dataframe tbody tr th {\n",
       "        vertical-align: top;\n",
       "    }\n",
       "\n",
       "    .dataframe thead th {\n",
       "        text-align: right;\n",
       "    }\n",
       "</style>\n",
       "<table border=\"1\" class=\"dataframe\">\n",
       "  <thead>\n",
       "    <tr style=\"text-align: right;\">\n",
       "      <th></th>\n",
       "      <th>States</th>\n",
       "      <th>Years</th>\n",
       "      <th>Quarter</th>\n",
       "      <th>Pincodes</th>\n",
       "      <th>RegisteredUsers</th>\n",
       "    </tr>\n",
       "  </thead>\n",
       "  <tbody>\n",
       "    <tr>\n",
       "      <th>0</th>\n",
       "      <td>Andaman &amp; Nicobar</td>\n",
       "      <td>2018</td>\n",
       "      <td>1</td>\n",
       "      <td>744103</td>\n",
       "      <td>1717074</td>\n",
       "    </tr>\n",
       "    <tr>\n",
       "      <th>1</th>\n",
       "      <td>Andaman &amp; Nicobar</td>\n",
       "      <td>2018</td>\n",
       "      <td>1</td>\n",
       "      <td>744101</td>\n",
       "      <td>1717074</td>\n",
       "    </tr>\n",
       "    <tr>\n",
       "      <th>2</th>\n",
       "      <td>Andaman &amp; Nicobar</td>\n",
       "      <td>2018</td>\n",
       "      <td>1</td>\n",
       "      <td>744105</td>\n",
       "      <td>1717074</td>\n",
       "    </tr>\n",
       "    <tr>\n",
       "      <th>3</th>\n",
       "      <td>Andaman &amp; Nicobar</td>\n",
       "      <td>2018</td>\n",
       "      <td>1</td>\n",
       "      <td>744102</td>\n",
       "      <td>1717074</td>\n",
       "    </tr>\n",
       "    <tr>\n",
       "      <th>4</th>\n",
       "      <td>Andaman &amp; Nicobar</td>\n",
       "      <td>2018</td>\n",
       "      <td>1</td>\n",
       "      <td>744104</td>\n",
       "      <td>1717074</td>\n",
       "    </tr>\n",
       "    <tr>\n",
       "      <th>...</th>\n",
       "      <td>...</td>\n",
       "      <td>...</td>\n",
       "      <td>...</td>\n",
       "      <td>...</td>\n",
       "      <td>...</td>\n",
       "    </tr>\n",
       "    <tr>\n",
       "      <th>49995</th>\n",
       "      <td>West Bengal</td>\n",
       "      <td>2024</td>\n",
       "      <td>4</td>\n",
       "      <td>733134</td>\n",
       "      <td>1717074</td>\n",
       "    </tr>\n",
       "    <tr>\n",
       "      <th>49996</th>\n",
       "      <td>West Bengal</td>\n",
       "      <td>2024</td>\n",
       "      <td>4</td>\n",
       "      <td>700059</td>\n",
       "      <td>1717074</td>\n",
       "    </tr>\n",
       "    <tr>\n",
       "      <th>49997</th>\n",
       "      <td>West Bengal</td>\n",
       "      <td>2024</td>\n",
       "      <td>4</td>\n",
       "      <td>711302</td>\n",
       "      <td>1717074</td>\n",
       "    </tr>\n",
       "    <tr>\n",
       "      <th>49998</th>\n",
       "      <td>West Bengal</td>\n",
       "      <td>2024</td>\n",
       "      <td>4</td>\n",
       "      <td>700150</td>\n",
       "      <td>1717074</td>\n",
       "    </tr>\n",
       "    <tr>\n",
       "      <th>49999</th>\n",
       "      <td>West Bengal</td>\n",
       "      <td>2024</td>\n",
       "      <td>4</td>\n",
       "      <td>711106</td>\n",
       "      <td>1717074</td>\n",
       "    </tr>\n",
       "  </tbody>\n",
       "</table>\n",
       "<p>50000 rows × 5 columns</p>\n",
       "</div>"
      ],
      "text/plain": [
       "                  States  Years  Quarter  Pincodes  RegisteredUsers\n",
       "0      Andaman & Nicobar   2018        1    744103          1717074\n",
       "1      Andaman & Nicobar   2018        1    744101          1717074\n",
       "2      Andaman & Nicobar   2018        1    744105          1717074\n",
       "3      Andaman & Nicobar   2018        1    744102          1717074\n",
       "4      Andaman & Nicobar   2018        1    744104          1717074\n",
       "...                  ...    ...      ...       ...              ...\n",
       "49995        West Bengal   2024        4    733134          1717074\n",
       "49996        West Bengal   2024        4    700059          1717074\n",
       "49997        West Bengal   2024        4    711302          1717074\n",
       "49998        West Bengal   2024        4    700150          1717074\n",
       "49999        West Bengal   2024        4    711106          1717074\n",
       "\n",
       "[50000 rows x 5 columns]"
      ]
     },
     "execution_count": 130,
     "metadata": {},
     "output_type": "execute_result"
    }
   ],
   "source": [
    "top_user"
   ]
  },
  {
   "cell_type": "code",
   "execution_count": null,
   "id": "3881e405",
   "metadata": {},
   "outputs": [],
   "source": []
  }
 ],
 "metadata": {
  "kernelspec": {
   "display_name": "Python 3",
   "language": "python",
   "name": "python3"
  },
  "language_info": {
   "codemirror_mode": {
    "name": "ipython",
    "version": 3
   },
   "file_extension": ".py",
   "mimetype": "text/x-python",
   "name": "python",
   "nbconvert_exporter": "python",
   "pygments_lexer": "ipython3",
   "version": "3.11.3"
  }
 },
 "nbformat": 4,
 "nbformat_minor": 5
}
